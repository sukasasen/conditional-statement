{
 "cells": [
  {
   "cell_type": "code",
   "execution_count": 1,
   "id": "cce899af-446a-4c46-826c-e5ed4e38dbda",
   "metadata": {},
   "outputs": [
    {
     "name": "stdin",
     "output_type": "stream",
     "text": [
      "the number is 5\n"
     ]
    },
    {
     "name": "stdout",
     "output_type": "stream",
     "text": [
      "the number is positive\n"
     ]
    }
   ],
   "source": [
    "number=int(input(\"the number is\"))\n",
    "if number  > 0:\n",
    "    print(\"the number is positive\")\n",
    "elif number == 0:\n",
    "    print(\"the number is zero\")\n",
    "else:\n",
    "    print(\"the number is negative\")"
   ]
  },
  {
   "cell_type": "code",
   "execution_count": 2,
   "id": "ee9dbe0c-bb73-4ee5-98ab-6169e6bd6792",
   "metadata": {},
   "outputs": [
    {
     "name": "stdin",
     "output_type": "stream",
     "text": [
      "the year is  2004\n"
     ]
    },
    {
     "name": "stdout",
     "output_type": "stream",
     "text": [
      "the year is leap year\n"
     ]
    }
   ],
   "source": [
    "year=int(input(\"the year is \"))\n",
    "if year%4==0:\n",
    "  print(\"the year is leap year\")\n",
    "else:\n",
    "  print(\"the year is not leap year\")"
   ]
  },
  {
   "cell_type": "code",
   "execution_count": 4,
   "id": "b7fb0e66-83dd-407e-a18d-4e02ebc880ad",
   "metadata": {},
   "outputs": [
    {
     "name": "stdin",
     "output_type": "stream",
     "text": [
      "enter first num:   46\n",
      "enter second num:   8\n",
      "select operater (+,-,*,/):   -\n"
     ]
    },
    {
     "name": "stdout",
     "output_type": "stream",
     "text": [
      "38\n"
     ]
    }
   ],
   "source": [
    "num1=int(input(\"enter first num:  \"))\n",
    "num2=int(input(\"enter second num:  \"))\n",
    "oper=(input(\"select operater (+,-,*,/):  \"))\n",
    "if oper =='+':\n",
    "         result=num1+num2\n",
    "         print(result)\n",
    "if oper =='-':\n",
    "         result=num1-num2\n",
    "         print(result)\n",
    "if oper =='*':\n",
    "         result=num1*num2\n",
    "         print(result)\n",
    "if oper =='/':\n",
    "         result=num1/num2\n",
    "         print(result)"
   ]
  },
  {
   "cell_type": "code",
   "execution_count": 7,
   "id": "86a99ecd-beb8-49e2-90d3-3713724713b0",
   "metadata": {},
   "outputs": [
    {
     "name": "stdin",
     "output_type": "stream",
     "text": [
      "student's marks:    98\n"
     ]
    },
    {
     "name": "stdout",
     "output_type": "stream",
     "text": [
      "gradeA\n"
     ]
    }
   ],
   "source": [
    "marks=int(input(\"student's marks:   \"))\n",
    "if marks>=85:\n",
    "    print('gradeA')\n",
    "elif marks>70 and marks<84:\n",
    "    print(\"grade B\")\n",
    "elif marks>50 and marks<69:\n",
    "    print(\"grade C\")\n",
    "else:\n",
    "    print(\"grade F\")"
   ]
  },
  {
   "cell_type": "code",
   "execution_count": 8,
   "id": "d2e2ce87-cc13-4442-b4f9-b1e9be8a62b3",
   "metadata": {},
   "outputs": [
    {
     "name": "stdin",
     "output_type": "stream",
     "text": [
      "Enter your age:  22\n",
      "Enter your income:  5854643475\n"
     ]
    },
    {
     "name": "stdout",
     "output_type": "stream",
     "text": [
      "Eligible for membership.\n"
     ]
    }
   ],
   "source": [
    "age = int(input(\"Enter your age: \"))\n",
    "income = float(input(\"Enter your income: \"))\n",
    "\n",
    "if age >= 21 and income > 25000:\n",
    "    print(\"Eligible for membership.\")\n",
    "else:\n",
    "    print(\"Not eligible.\")"
   ]
  },
  {
   "cell_type": "code",
   "execution_count": 9,
   "id": "6d5a2437-901e-42fa-b8b2-922f161e91d8",
   "metadata": {},
   "outputs": [
    {
     "name": "stdin",
     "output_type": "stream",
     "text": [
      "Enter a number:  46\n"
     ]
    },
    {
     "name": "stdout",
     "output_type": "stream",
     "text": [
      "46\n"
     ]
    }
   ],
   "source": [
    "number = int(input(\"Enter a number: \"))\n",
    "\n",
    "if number % 3 == 0 and number % 5 == 0:\n",
    "    print(\"FizzBuzz\")\n",
    "elif number % 3 == 0:\n",
    "    print(\"Fizz\")\n",
    "elif number % 5 == 0:\n",
    "    print(\"Buzz\")\n",
    "else:\n",
    "    print(number)"
   ]
  },
  {
   "cell_type": "code",
   "execution_count": 10,
   "id": "9bec48ee-f839-4e08-a7d0-7f209196d343",
   "metadata": {},
   "outputs": [
    {
     "name": "stdin",
     "output_type": "stream",
     "text": [
      "enter a character: 6557\n"
     ]
    },
    {
     "name": "stdout",
     "output_type": "stream",
     "text": [
      "digit\n"
     ]
    }
   ],
   "source": [
    "char=input('enter a character:')\n",
    "if char.isalpha():\n",
    "    if char.loswer() in 'aeiou':\n",
    "        print('vowel')\n",
    "    else:\n",
    "        print:('consonent')\n",
    "elif char.isdigit(): \n",
    "    print('digit')\n",
    "else:\n",
    "    print('special character')"
   ]
  },
  {
   "cell_type": "code",
   "execution_count": 11,
   "id": "c958918f-5472-4ab1-b944-37eec87935ac",
   "metadata": {},
   "outputs": [
    {
     "name": "stdin",
     "output_type": "stream",
     "text": [
      "enter the day:  THURSDAY\n"
     ]
    },
    {
     "name": "stdout",
     "output_type": "stream",
     "text": [
      "time for work\n"
     ]
    }
   ],
   "source": [
    "day=input('enter the day: ').strip().lower\n",
    "if day =='saturday' or day=='sunday':\n",
    "    print('enjoy your weekend!')\n",
    "else:\n",
    "    print('time for work')"
   ]
  },
  {
   "cell_type": "code",
   "execution_count": 12,
   "id": "27dadac9-6d13-46bc-a3fb-f349e4e1e163",
   "metadata": {},
   "outputs": [
    {
     "name": "stdin",
     "output_type": "stream",
     "text": [
      "Enter years of service:  9\n",
      "Enter current salary:  574655843\n"
     ]
    },
    {
     "name": "stdout",
     "output_type": "stream",
     "text": [
      "Bonus amount: $ 57465584.300000004\n"
     ]
    }
   ],
   "source": [
    "years = int(input(\"Enter years of service: \"))\n",
    "salary = float(input(\"Enter current salary: \"))\n",
    "\n",
    "if years >= 10:\n",
    "    bonus = 0.20 * salary\n",
    "elif 5 <= years < 10:\n",
    "    bonus = 0.10 * salary\n",
    "else:\n",
    "    bonus = 0.05 * salary\n",
    "\n",
    "print(\"Bonus amount: $\", bonus)"
   ]
  },
  {
   "cell_type": "code",
   "execution_count": 13,
   "id": "b0c563a7-fbe8-404b-bae7-8f3cd94e113f",
   "metadata": {},
   "outputs": [
    {
     "name": "stdin",
     "output_type": "stream",
     "text": [
      "Enter a number:  756\n"
     ]
    },
    {
     "name": "stdout",
     "output_type": "stream",
     "text": [
      "The number is positive.\n",
      "It is even.\n"
     ]
    }
   ],
   "source": [
    "num = int(input(\"Enter a number: \"))\n",
    "if num > 0:\n",
    "    print(\"The number is positive.\")\n",
    "    \n",
    "    if num % 2 == 0:\n",
    "        print(\"It is even.\")\n",
    "    else:\n",
    "        print(\"It is odd.\")\n",
    "elif num < 0:\n",
    "    print(\"The number is negative.\")\n",
    "else:\n",
    "    print(\"The number is zero.\")"
   ]
  },
  {
   "cell_type": "code",
   "execution_count": null,
   "id": "1d6a0d16-fc67-42a9-8e77-8e2076a9ba86",
   "metadata": {},
   "outputs": [],
   "source": []
  }
 ],
 "metadata": {
  "kernelspec": {
   "display_name": "Python 3 (ipykernel)",
   "language": "python",
   "name": "python3"
  },
  "language_info": {
   "codemirror_mode": {
    "name": "ipython",
    "version": 3
   },
   "file_extension": ".py",
   "mimetype": "text/x-python",
   "name": "python",
   "nbconvert_exporter": "python",
   "pygments_lexer": "ipython3",
   "version": "3.12.7"
  }
 },
 "nbformat": 4,
 "nbformat_minor": 5
}
