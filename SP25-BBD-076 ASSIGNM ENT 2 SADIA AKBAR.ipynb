{
 "cells": [
  {
   "cell_type": "code",
   "execution_count": 1,
   "id": "d6c4f5c7-a98f-444f-bdc5-be6f35449a1d",
   "metadata": {},
   "outputs": [
    {
     "name": "stdin",
     "output_type": "stream",
     "text": [
      "the number is:   -454\n"
     ]
    },
    {
     "name": "stdout",
     "output_type": "stream",
     "text": [
      "negative\n"
     ]
    }
   ],
   "source": [
    "num=int(input('the number is:  '))\n",
    "if num>0:\n",
    "    print(\"positive\")\n",
    "elif num==0:\n",
    "    print('zero')\n",
    "else:\n",
    "    print('negative')"
   ]
  },
  {
   "cell_type": "code",
   "execution_count": 2,
   "id": "bc034310-0364-4158-a36f-0b0f681329ca",
   "metadata": {},
   "outputs": [
    {
     "name": "stdin",
     "output_type": "stream",
     "text": [
      "the year is:    2019\n"
     ]
    },
    {
     "name": "stdout",
     "output_type": "stream",
     "text": [
      "its not a leap year\n"
     ]
    }
   ],
   "source": [
    "year=int(input('the year is:   '))\n",
    "if year %4==0:\n",
    "    print('its a leap year')\n",
    "else:\n",
    "    print('its not a leap year')"
   ]
  },
  {
   "cell_type": "code",
   "execution_count": 6,
   "id": "7494e269-3494-4e0d-b097-14cbb48772ea",
   "metadata": {},
   "outputs": [
    {
     "name": "stdin",
     "output_type": "stream",
     "text": [
      "enter firstr num:    6\n",
      "enter second num:    76\n",
      "select operator(+,-,*,/):     -\n"
     ]
    },
    {
     "name": "stdout",
     "output_type": "stream",
     "text": [
      "-70\n"
     ]
    }
   ],
   "source": [
    "num1=int(input('enter firstr num:   '))\n",
    "num2=int(input('enter second num:   '))\n",
    "oper=input('select operator(+,-,*,/):    ')\n",
    "if oper=='+':\n",
    "           result= num1+num2\n",
    "           print(result)\n",
    "if oper=='-':\n",
    "           result= num1-num2\n",
    "           print(result)\n",
    "if oper=='*':\n",
    "           result= num1*num2\n",
    "           print(result)\n",
    "if oper=='/':\n",
    "           result= num1/num2\n",
    "           print(result)    "
   ]
  },
  {
   "cell_type": "code",
   "execution_count": 7,
   "id": "ad160d63-8716-4aa0-a633-71c6611deb01",
   "metadata": {},
   "outputs": [
    {
     "name": "stdin",
     "output_type": "stream",
     "text": [
      "enter your age:   24\n",
      "enter your income:    359000\n"
     ]
    },
    {
     "name": "stdout",
     "output_type": "stream",
     "text": [
      "eligible for mempbership\n"
     ]
    }
   ],
   "source": [
    "age=int(input('enter your age:  '))\n",
    "income=float(input('enter your income:   '))\n",
    "if age>=21 and income>250000:\n",
    "    print('eligible for mempbership')\n",
    "else:\n",
    "    print('not eligible')"
   ]
  },
  {
   "cell_type": "code",
   "execution_count": 8,
   "id": "536a9103-090b-447e-8688-fa4c19813ed0",
   "metadata": {},
   "outputs": [
    {
     "name": "stdin",
     "output_type": "stream",
     "text": [
      "enter a num:    54\n"
     ]
    },
    {
     "name": "stdout",
     "output_type": "stream",
     "text": [
      "fizz\n"
     ]
    }
   ],
   "source": [
    "num=int(input('enter a num:   '))\n",
    "if num%3==0 and num%5==0:\n",
    "    print('fizzbuzz')\n",
    "elif num%3==0:\n",
    "    print('fizz')\n",
    "elif num%5==0:\n",
    "    print('buzz')\n",
    "else:\n",
    "    print(num)"
   ]
  },
  {
   "cell_type": "code",
   "execution_count": 11,
   "id": "a7154093-3f9b-45bc-ae62-b37d822c9381",
   "metadata": {},
   "outputs": [
    {
     "name": "stdin",
     "output_type": "stream",
     "text": [
      "enter a character: 543\n"
     ]
    },
    {
     "name": "stdout",
     "output_type": "stream",
     "text": [
      "digit\n"
     ]
    }
   ],
   "source": [
    "char=input('enter a character:')\n",
    "if char.isalpha():\n",
    "    if char.loswer() in 'aeiou':\n",
    "        print('vowel')\n",
    "    else:\n",
    "        print:('consonent')\n",
    "elif char.isdigit(): \n",
    "    print('digit')\n",
    "else:\n",
    "    print('special character')\n",
    "    "
   ]
  },
  {
   "cell_type": "code",
   "execution_count": 12,
   "id": "3c1b0c9c-8e2f-4428-acd6-45b421949a93",
   "metadata": {},
   "outputs": [
    {
     "name": "stdin",
     "output_type": "stream",
     "text": [
      "enter the day:  sunday\n"
     ]
    },
    {
     "name": "stdout",
     "output_type": "stream",
     "text": [
      "time for work\n"
     ]
    }
   ],
   "source": [
    "day=input('enter the day: ').strip().lower\n",
    "if day =='saturday' or day=='sunday':\n",
    "    print('enjoy your weekend!')\n",
    "else:\n",
    "    print('time for work')"
   ]
  },
  {
   "cell_type": "code",
   "execution_count": 13,
   "id": "610334b2-194b-4f43-9b33-4fe54885a118",
   "metadata": {},
   "outputs": [
    {
     "name": "stdin",
     "output_type": "stream",
     "text": [
      "Enter years of service:  4\n",
      "Enter current salary:  4\n"
     ]
    },
    {
     "name": "stdout",
     "output_type": "stream",
     "text": [
      "Bonus amount: $ 0.2\n"
     ]
    }
   ],
   "source": [
    "years = int(input(\"Enter years of service: \"))\n",
    "salary = float(input(\"Enter current salary: \"))\n",
    "\n",
    "if years >= 10:\n",
    "    bonus = 0.20 * salary\n",
    "elif 5 <= years < 10:\n",
    "    bonus = 0.10 * salary\n",
    "else:\n",
    "    bonus = 0.05 * salary\n",
    "\n",
    "print(\"Bonus amount: $\", bonus)"
   ]
  },
  {
   "cell_type": "code",
   "execution_count": null,
   "id": "eb80dde7-949d-49bd-9e6f-c2ade99db00d",
   "metadata": {},
   "outputs": [],
   "source": [
    "if num > 0:\n",
    "    print(\"Positive\")\n",
    "    if num % 2 == 0:\n",
    "        print(\"Even\")\n",
    "    else:\n",
    "        print(\"Odd\")\n",
    "elif num < 0:\n",
    "    print(\"Negative\")\n",
    "else:\n",
    "    print(\"Zero\")"
   ]
  }
 ],
 "metadata": {
  "kernelspec": {
   "display_name": "Python 3 (ipykernel)",
   "language": "python",
   "name": "python3"
  },
  "language_info": {
   "codemirror_mode": {
    "name": "ipython",
    "version": 3
   },
   "file_extension": ".py",
   "mimetype": "text/x-python",
   "name": "python",
   "nbconvert_exporter": "python",
   "pygments_lexer": "ipython3",
   "version": "3.12.7"
  }
 },
 "nbformat": 4,
 "nbformat_minor": 5
}
